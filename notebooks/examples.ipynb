{
 "cells": [
  {
   "cell_type": "code",
   "execution_count": 1,
   "id": "75f79812-c6f6-4cc8-9d40-d8279b73f0de",
   "metadata": {},
   "outputs": [],
   "source": [
    "from numerical_methods import root_finding, differential_equations\n",
    "import matplotlib.pyplot as plt\n",
    "import math"
   ]
  },
  {
   "cell_type": "code",
   "execution_count": null,
   "id": "57ddc5c1",
   "metadata": {},
   "outputs": [],
   "source": []
  },
  {
   "cell_type": "markdown",
   "id": "dc39898c-6ba3-4bb9-bca5-1d193d14839e",
   "metadata": {},
   "source": [
    "## Binary Search"
   ]
  },
  {
   "cell_type": "code",
   "execution_count": 2,
   "id": "f43fdb40-7b01-4d3e-b97c-bc1effc24742",
   "metadata": {},
   "outputs": [],
   "source": [
    "root_of_sin = root_finding.binary_search(math.sin,2,4,1e-5)"
   ]
  },
  {
   "cell_type": "code",
   "execution_count": 3,
   "id": "dcce0ef3-a983-48f8-a023-a750b34f1f7d",
   "metadata": {},
   "outputs": [
    {
     "data": {
      "text/plain": [
       "3.141590118408203"
      ]
     },
     "execution_count": 3,
     "metadata": {},
     "output_type": "execute_result"
    }
   ],
   "source": [
    "root_of_sin"
   ]
  },
  {
   "cell_type": "markdown",
   "id": "0271fdbd-1ab2-4514-a9b8-b941302dc7f8",
   "metadata": {},
   "source": [
    "## Euler Method"
   ]
  },
  {
   "cell_type": "code",
   "execution_count": 4,
   "id": "afc9f500-f619-4580-988e-7970448a8488",
   "metadata": {},
   "outputs": [],
   "source": [
    "derivative_function = lambda x,y:(x**2)*y\n",
    "solved_function = differential_equations.euler_method(derivative_function,1,2,1e-2,100)"
   ]
  },
  {
   "cell_type": "code",
   "execution_count": 5,
   "id": "8a81fcf0-0f78-402f-a69b-0a5af1e9b0a1",
   "metadata": {},
   "outputs": [
    {
     "data": {
      "text/plain": [
       "[<matplotlib.lines.Line2D at 0x7f54e6557560>]"
      ]
     },
     "execution_count": 5,
     "metadata": {},
     "output_type": "execute_result"
    },
    {
     "data": {
      "image/png": "[encoded data removed]",
      "text/plain": [
       "<Figure size 200x200 with 1 Axes>"
      ]
     },
     "metadata": {},
     "output_type": "display_data"
    }
   ],
   "source": [
    "plt.style.use('_mpl-gallery')\n",
    "\n",
    "x_values = solved_function.keys()\n",
    "y_values = solved_function.values()\n",
    "\n",
    "fig, ax = plt.subplots()\n",
    "ax.plot(x_values,y_values,linewidth = 2.0)"
   ]
  },
  {
   "cell_type": "code",
   "execution_count": null,
   "id": "d36c679a-c29d-468e-a8f1-5219d26a6970",
   "metadata": {},
   "outputs": [],
   "source": []
  }
 ],
 "metadata": {
  "kernelspec": {
   "display_name": "Python 3 (ipykernel)",
   "language": "python",
   "name": "python3"
  },
  "language_info": {
   "codemirror_mode": {
    "name": "ipython",
    "version": 3
   },
   "file_extension": ".py",
   "mimetype": "text/x-python",
   "name": "python",
   "nbconvert_exporter": "python",
   "pygments_lexer": "ipython3",
   "version": "3.12.3"
  }
 },
 "nbformat": 4,
 "nbformat_minor": 5
}
